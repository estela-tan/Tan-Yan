{
  "cells": [
    {
      "cell_type": "markdown",
      "metadata": {},
      "source": [
        "# TAN YAN\n",
        "\n",
        "# my website!\n",
        "\n",
        "### ~BSU，EM24-A，TAN YAN\n",
        "\n",
        "#### ~English major, loves swimming"
      ],
      "id": "5f76a154-1f85-472d-ae96-18e71dce27a4"
    }
  ],
  "nbformat": 4,
  "nbformat_minor": 5,
  "metadata": {
    "kernelspec": {
      "display_name": "Python 3",
      "language": "python",
      "name": "python3"
    }
  }
}