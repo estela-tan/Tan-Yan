{
  "cells": [
    {
      "cell_type": "markdown",
      "metadata": {},
      "source": [
        "# Homeworks\n",
        "\n",
        "### [homework 1 for lecture 3](homework%201%20for%20lecture%203.html)\n",
        "\n",
        "### [homework 2 for lecture 3](homework%201%20for%20lecture%203.html)\n",
        "\n",
        "### [homework for lecture 2-pet names](homework%20for%20lecture%202-pet%20names.html)\n",
        "\n",
        "### [homework for lecture 4](homework%20for%20lecture%204.html)\n",
        "\n",
        "### [homework for lecture 5](homework%20for%20lecture%205.html)"
      ],
      "id": "2125e594-a648-4b2d-bfac-9c5eb2dffd27"
    }
  ],
  "nbformat": 4,
  "nbformat_minor": 5,
  "metadata": {
    "kernelspec": {
      "display_name": "Python 3",
      "language": "python",
      "name": "python3"
    }
  }
}