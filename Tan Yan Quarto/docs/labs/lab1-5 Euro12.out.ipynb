{
  "cells": [
    {
      "cell_type": "markdown",
      "metadata": {},
      "source": [
        "# Ex2 - Filtering and Sorting Data\n",
        "\n",
        "This time we are going to pull data directly from the internet.\n",
        "\n",
        "### Step 1. Import the necessary libraries"
      ],
      "id": "ce61724c-fd94-455a-9e1e-c6aef9e048ec"
    },
    {
      "cell_type": "code",
      "execution_count": 1,
      "metadata": {},
      "outputs": [],
      "source": [
        "import pandas as pd"
      ],
      "id": "cell-3"
    },
    {
      "cell_type": "markdown",
      "metadata": {},
      "source": [
        "### Step 2. Import the dataset from this [address](https://raw.githubusercontent.com/guipsamora/pandas_exercises/master/02_Filtering_%26_Sorting/Euro12/Euro_2012_stats_TEAM.csv).\n",
        "\n",
        "### Step 3. Assign it to a variable called euro12."
      ],
      "id": "3921f8dd-e9f8-4115-807f-f6dbdc6767f3"
    },
    {
      "cell_type": "code",
      "execution_count": 3,
      "metadata": {},
      "outputs": [
        {
          "output_type": "stream",
          "name": "stdout",
          "text": [
            "                   Team  Goals  Shots on target  Shots off target Shooting Accuracy % Goals-to-shots  Total shots (inc. Blocked)  Hit Woodwork  Penalty goals  Penalties not scored  ...  Saves made  Saves-to-shots ratio  Fouls Won Fouls Conceded  Offsides  Yellow Cards  Red Cards  Subs on  Subs off  Players Used\n",
            "0               Croatia      4               13                12             51.9%            16.0%                          32             0              0                     0  ...          13                 81.3%         41             62         2             9          0        9         9            16\n",
            "1        Czech Republic      4               13                18             41.9%            12.9%                          39             0              0                     0  ...           9                 60.1%         53             73         8             7          0       11        11            19\n",
            "2               Denmark      4               10                10             50.0%            20.0%                          27             1              0                     0  ...          10                 66.7%         25             38         8             4          0        7         7            15\n",
            "3               England      5               11                18             50.0%            17.2%                          40             0              0                     0  ...          22                 88.1%         43             45         6             5          0       11        11            16\n",
            "4                France      3               22                24             37.9%             6.5%                          65             1              0                     0  ...           6                 54.6%         36             51         5             6          0       11        11            19\n",
            "5               Germany     10               32                32             47.8%            15.6%                          80             2              1                     0  ...          10                 62.6%         63             49        12             4          0       15        15            17\n",
            "6                Greece      5                8                18             30.7%            19.2%                          32             1              1                     1  ...          13                 65.1%         67             48        12             9          1       12        12            20\n",
            "7                 Italy      6               34                45             43.0%             7.5%                         110             2              0                     0  ...          20                 74.1%        101             89        16            16          0       18        18            19\n",
            "8           Netherlands      2               12                36             25.0%             4.1%                          60             2              0                     0  ...          12                 70.6%         35             30         3             5          0        7         7            15\n",
            "9                Poland      2               15                23             39.4%             5.2%                          48             0              0                     0  ...           6                 66.7%         48             56         3             7          1        7         7            17\n",
            "10             Portugal      6               22                42             34.3%             9.3%                          82             6              0                     0  ...          10                 71.5%         73             90        10            12          0       14        14            16\n",
            "11  Republic of Ireland      1                7                12             36.8%             5.2%                          28             0              0                     0  ...          17                 65.4%         43             51        11             6          1       10        10            17\n",
            "12               Russia      5                9                31             22.5%            12.5%                          59             2              0                     0  ...          10                 77.0%         34             43         4             6          0        7         7            16\n",
            "13                Spain     12               42                33             55.9%            16.0%                         100             0              1                     0  ...          15                 93.8%        102             83        19            11          0       17        17            18\n",
            "14               Sweden      5               17                19             47.2%            13.8%                          39             3              0                     0  ...           8                 61.6%         35             51         7             7          0        9         9            18\n",
            "15              Ukraine      2                7                26             21.2%             6.0%                          38             0              0                     0  ...          13                 76.5%         48             31         4             5          0        9         9            18\n",
            "\n",
            "[16 rows x 35 columns]"
          ]
        }
      ],
      "source": [
        "euro12 = pd.read_csv('https://raw.githubusercontent.com/guipsamora/pandas_exercises/master/02_Filtering_%26_Sorting/Euro12/Euro_2012_stats_TEAM.csv')\n",
        "pd.set_option('display.width', 400)  \n",
        "print(euro12)"
      ],
      "id": "cell-6"
    },
    {
      "cell_type": "markdown",
      "metadata": {},
      "source": [
        "### Step 4. Select only the Goal column."
      ],
      "id": "2e89b2a6-ce54-4349-aaac-97d96b57976e"
    },
    {
      "cell_type": "code",
      "execution_count": 4,
      "metadata": {},
      "outputs": [
        {
          "output_type": "stream",
          "name": "stdout",
          "text": [
            "0      4\n",
            "1      4\n",
            "2      4\n",
            "3      5\n",
            "4      3\n",
            "5     10\n",
            "6      5\n",
            "7      6\n",
            "8      2\n",
            "9      2\n",
            "10     6\n",
            "11     1\n",
            "12     5\n",
            "13    12\n",
            "14     5\n",
            "15     2\n",
            "Name: Goals, dtype: int64"
          ]
        }
      ],
      "source": [
        "goals = euro12['Goals']\n",
        "print(goals)"
      ],
      "id": "cell-8"
    },
    {
      "cell_type": "markdown",
      "metadata": {},
      "source": [
        "### Step 5. How many team participated in the Euro2012?"
      ],
      "id": "ed13d970-2ccc-4e5d-93ef-b8c84246b361"
    },
    {
      "cell_type": "code",
      "execution_count": 5,
      "metadata": {},
      "outputs": [
        {
          "output_type": "stream",
          "name": "stdout",
          "text": [
            "16"
          ]
        }
      ],
      "source": [
        "num_teams = euro12.shape[0]\n",
        "print(f'{num_teams}')"
      ],
      "id": "cell-10"
    },
    {
      "cell_type": "markdown",
      "metadata": {},
      "source": [
        "### Step 6. What is the number of columns in the dataset?"
      ],
      "id": "29c3953e-bcce-47c2-8dca-9b0c4f685289"
    },
    {
      "cell_type": "code",
      "execution_count": 6,
      "metadata": {},
      "outputs": [
        {
          "output_type": "stream",
          "name": "stdout",
          "text": [
            "<class 'pandas.core.frame.DataFrame'>\n",
            "RangeIndex: 16 entries, 0 to 15\n",
            "Data columns (total 35 columns):\n",
            " #   Column                      Non-Null Count  Dtype  \n",
            "---  ------                      --------------  -----  \n",
            " 0   Team                        16 non-null     object \n",
            " 1   Goals                       16 non-null     int64  \n",
            " 2   Shots on target             16 non-null     int64  \n",
            " 3   Shots off target            16 non-null     int64  \n",
            " 4   Shooting Accuracy           16 non-null     object \n",
            " 5   % Goals-to-shots            16 non-null     object \n",
            " 6   Total shots (inc. Blocked)  16 non-null     int64  \n",
            " 7   Hit Woodwork                16 non-null     int64  \n",
            " 8   Penalty goals               16 non-null     int64  \n",
            " 9   Penalties not scored        16 non-null     int64  \n",
            " 10  Headed goals                16 non-null     int64  \n",
            " 11  Passes                      16 non-null     int64  \n",
            " 12  Passes completed            16 non-null     int64  \n",
            " 13  Passing Accuracy            16 non-null     object \n",
            " 14  Touches                     16 non-null     int64  \n",
            " 15  Crosses                     16 non-null     int64  \n",
            " 16  Dribbles                    16 non-null     int64  \n",
            " 17  Corners Taken               16 non-null     int64  \n",
            " 18  Tackles                     16 non-null     int64  \n",
            " 19  Clearances                  16 non-null     int64  \n",
            " 20  Interceptions               16 non-null     int64  \n",
            " 21  Clearances off line         15 non-null     float64\n",
            " 22  Clean Sheets                16 non-null     int64  \n",
            " 23  Blocks                      16 non-null     int64  \n",
            " 24  Goals conceded              16 non-null     int64  \n",
            " 25  Saves made                  16 non-null     int64  \n",
            " 26  Saves-to-shots ratio        16 non-null     object \n",
            " 27  Fouls Won                   16 non-null     int64  \n",
            " 28  Fouls Conceded              16 non-null     int64  \n",
            " 29  Offsides                    16 non-null     int64  \n",
            " 30  Yellow Cards                16 non-null     int64  \n",
            " 31  Red Cards                   16 non-null     int64  \n",
            " 32  Subs on                     16 non-null     int64  \n",
            " 33  Subs off                    16 non-null     int64  \n",
            " 34  Players Used                16 non-null     int64  \n",
            "dtypes: float64(1), int64(29), object(5)\n",
            "memory usage: 4.5+ KB"
          ]
        }
      ],
      "source": [
        "euro12.info()"
      ],
      "id": "cell-12"
    },
    {
      "cell_type": "markdown",
      "metadata": {},
      "source": [
        "### Step 7. View only the columns Team, Yellow Cards and Red Cards and assign them to a dataframe called discipline"
      ],
      "id": "646dbd1d-a122-44fe-a9fa-4d0ea1207260"
    },
    {
      "cell_type": "code",
      "execution_count": 7,
      "metadata": {},
      "outputs": [
        {
          "output_type": "stream",
          "name": "stdout",
          "text": [
            "                   Team  Yellow Cards  Red Cards\n",
            "0               Croatia             9          0\n",
            "1        Czech Republic             7          0\n",
            "2               Denmark             4          0\n",
            "3               England             5          0\n",
            "4                France             6          0\n",
            "5               Germany             4          0\n",
            "6                Greece             9          1\n",
            "7                 Italy            16          0\n",
            "8           Netherlands             5          0\n",
            "9                Poland             7          1\n",
            "10             Portugal            12          0\n",
            "11  Republic of Ireland             6          1\n",
            "12               Russia             6          0\n",
            "13                Spain            11          0\n",
            "14               Sweden             7          0\n",
            "15              Ukraine             5          0"
          ]
        }
      ],
      "source": [
        "discipline = euro12[['Team', 'Yellow Cards', 'Red Cards']]\n",
        "print(discipline)"
      ],
      "id": "cell-14"
    },
    {
      "cell_type": "markdown",
      "metadata": {},
      "source": [
        "### Step 8. Sort the teams by Red Cards, then to Yellow Cards"
      ],
      "id": "fc5ca10e-8dd0-49b0-9c24-7b1cf9c71efe"
    },
    {
      "cell_type": "code",
      "execution_count": 8,
      "metadata": {
        "scrolled": true
      },
      "outputs": [
        {
          "output_type": "stream",
          "name": "stdout",
          "text": [
            "                   Team  Yellow Cards  Red Cards\n",
            "6                Greece             9          1\n",
            "9                Poland             7          1\n",
            "11  Republic of Ireland             6          1\n",
            "7                 Italy            16          0\n",
            "10             Portugal            12          0\n",
            "13                Spain            11          0\n",
            "0               Croatia             9          0\n",
            "1        Czech Republic             7          0\n",
            "14               Sweden             7          0\n",
            "4                France             6          0\n",
            "12               Russia             6          0\n",
            "3               England             5          0\n",
            "8           Netherlands             5          0\n",
            "15              Ukraine             5          0\n",
            "2               Denmark             4          0\n",
            "5               Germany             4          0"
          ]
        }
      ],
      "source": [
        "sorted_discipline = discipline.sort_values(by=['Red Cards', 'Yellow Cards'], ascending=[False, False])\n",
        "print(sorted_discipline)"
      ],
      "id": "cell-16"
    },
    {
      "cell_type": "markdown",
      "metadata": {},
      "source": [
        "### Step 9. Calculate the mean Yellow Cards given per Team"
      ],
      "id": "b2e0e3cf-4d99-4b27-8ac2-b6d8ac941564"
    },
    {
      "cell_type": "code",
      "execution_count": 9,
      "metadata": {},
      "outputs": [
        {
          "output_type": "stream",
          "name": "stdout",
          "text": [
            "7.4"
          ]
        }
      ],
      "source": [
        "mean_yellow_cards = round(euro12['Yellow Cards'].mean(), 1)\n",
        "print(mean_yellow_cards)"
      ],
      "id": "cell-18"
    },
    {
      "cell_type": "markdown",
      "metadata": {},
      "source": [
        "### Step 10. Filter teams that scored more than 6 goals"
      ],
      "id": "a364b874-6710-4008-b743-4784ff40b7c8"
    },
    {
      "cell_type": "code",
      "execution_count": 17,
      "metadata": {},
      "outputs": [
        {
          "output_type": "stream",
          "name": "stdout",
          "text": [
            "       Team  Goals  Shots on target  Shots off target Shooting Accuracy % Goals-to-shots  Total shots (inc. Blocked)  Hit Woodwork  Penalty goals  Penalties not scored  ...  Saves made  Saves-to-shots ratio  Fouls Won Fouls Conceded  Offsides  Yellow Cards  Red Cards  Subs on  Subs off  Players Used\n",
            "5   Germany     10               32                32             47.8%            15.6%                          80             2              1                     0  ...          10                 62.6%         63             49        12             4          0       15        15            17\n",
            "13    Spain     12               42                33             55.9%            16.0%                         100             0              1                     0  ...          15                 93.8%        102             83        19            11          0       17        17            18\n",
            "\n",
            "[2 rows x 35 columns]"
          ]
        }
      ],
      "source": [
        "teams_more_than_6_goals = euro12[euro12['Goals'] > 6]\n",
        "germany_spain = teams_more_than_6_goals[teams_more_than_6_goals['Team'].isin(['Germany', 'Spain'])]\n",
        "print(germany_spain)"
      ],
      "id": "cell-20"
    },
    {
      "cell_type": "markdown",
      "metadata": {},
      "source": [
        "### Step 11. Select the teams that start with G"
      ],
      "id": "93574675-21e2-4619-8779-42065192469d"
    },
    {
      "cell_type": "code",
      "execution_count": 12,
      "metadata": {},
      "outputs": [
        {
          "output_type": "stream",
          "name": "stdout",
          "text": [
            "      Team  Goals  Shots on target  Shots off target Shooting Accuracy % Goals-to-shots  Total shots (inc. Blocked)  Hit Woodwork  Penalty goals  Penalties not scored  ...  Saves made  Saves-to-shots ratio  Fouls Won Fouls Conceded  Offsides  Yellow Cards  Red Cards  Subs on  Subs off  Players Used\n",
            "5  Germany     10               32                32             47.8%            15.6%                          80             2              1                     0  ...          10                 62.6%         63             49        12             4          0       15        15            17\n",
            "6   Greece      5                8                18             30.7%            19.2%                          32             1              1                     1  ...          13                 65.1%         67             48        12             9          1       12        12            20\n",
            "\n",
            "[2 rows x 35 columns]"
          ]
        }
      ],
      "source": [
        "teams_start_with_G = euro12[euro12['Team'].str.startswith('G')]\n",
        "print(teams_start_with_G)"
      ],
      "id": "cell-22"
    },
    {
      "cell_type": "markdown",
      "metadata": {},
      "source": [
        "### Step 12. Select the first 7 columns"
      ],
      "id": "2831a561-47c9-4e15-bcc2-548595c237d8"
    },
    {
      "cell_type": "code",
      "execution_count": 16,
      "metadata": {},
      "outputs": [
        {
          "output_type": "stream",
          "name": "stdout",
          "text": [
            "                   Team  Goals  Shots on target  Shots off target Shooting Accuracy % Goals-to-shots  Total shots (inc. Blocked)\n",
            "0               Croatia      4               13                12             51.9%            16.0%                          32\n",
            "1        Czech Republic      4               13                18             41.9%            12.9%                          39\n",
            "2               Denmark      4               10                10             50.0%            20.0%                          27\n",
            "3               England      5               11                18             50.0%            17.2%                          40\n",
            "4                France      3               22                24             37.9%             6.5%                          65\n",
            "5               Germany     10               32                32             47.8%            15.6%                          80\n",
            "6                Greece      5                8                18             30.7%            19.2%                          32\n",
            "7                 Italy      6               34                45             43.0%             7.5%                         110\n",
            "8           Netherlands      2               12                36             25.0%             4.1%                          60\n",
            "9                Poland      2               15                23             39.4%             5.2%                          48\n",
            "10             Portugal      6               22                42             34.3%             9.3%                          82\n",
            "11  Republic of Ireland      1                7                12             36.8%             5.2%                          28\n",
            "12               Russia      5                9                31             22.5%            12.5%                          59\n",
            "13                Spain     12               42                33             55.9%            16.0%                         100\n",
            "14               Sweden      5               17                19             47.2%            13.8%                          39\n",
            "15              Ukraine      2                7                26             21.2%             6.0%                          38"
          ]
        }
      ],
      "source": [
        "first_7_columns = euro12.iloc[:, :7]\n",
        "print(first_7_columns)"
      ],
      "id": "cell-24"
    },
    {
      "cell_type": "markdown",
      "metadata": {},
      "source": [
        "### Step 13. Select all columns except the last 3."
      ],
      "id": "781236a5-8f26-4520-8aef-8b14dbc7c7b6"
    },
    {
      "cell_type": "code",
      "execution_count": 14,
      "metadata": {},
      "outputs": [
        {
          "output_type": "stream",
          "name": "stdout",
          "text": [
            "                   Team  Goals  Shots on target  Shots off target Shooting Accuracy % Goals-to-shots  Total shots (inc. Blocked)  Hit Woodwork  Penalty goals  Penalties not scored  ...  Clean Sheets  Blocks  Goals conceded Saves made  Saves-to-shots ratio  Fouls Won  Fouls Conceded  Offsides  Yellow Cards  Red Cards\n",
            "0               Croatia      4               13                12             51.9%            16.0%                          32             0              0                     0  ...             0      10               3         13                 81.3%         41              62         2             9          0\n",
            "1        Czech Republic      4               13                18             41.9%            12.9%                          39             0              0                     0  ...             1      10               6          9                 60.1%         53              73         8             7          0\n",
            "2               Denmark      4               10                10             50.0%            20.0%                          27             1              0                     0  ...             1      10               5         10                 66.7%         25              38         8             4          0\n",
            "3               England      5               11                18             50.0%            17.2%                          40             0              0                     0  ...             2      29               3         22                 88.1%         43              45         6             5          0\n",
            "4                France      3               22                24             37.9%             6.5%                          65             1              0                     0  ...             1       7               5          6                 54.6%         36              51         5             6          0\n",
            "5               Germany     10               32                32             47.8%            15.6%                          80             2              1                     0  ...             1      11               6         10                 62.6%         63              49        12             4          0\n",
            "6                Greece      5                8                18             30.7%            19.2%                          32             1              1                     1  ...             1      23               7         13                 65.1%         67              48        12             9          1\n",
            "7                 Italy      6               34                45             43.0%             7.5%                         110             2              0                     0  ...             2      18               7         20                 74.1%        101              89        16            16          0\n",
            "8           Netherlands      2               12                36             25.0%             4.1%                          60             2              0                     0  ...             0       9               5         12                 70.6%         35              30         3             5          0\n",
            "9                Poland      2               15                23             39.4%             5.2%                          48             0              0                     0  ...             0       8               3          6                 66.7%         48              56         3             7          1\n",
            "10             Portugal      6               22                42             34.3%             9.3%                          82             6              0                     0  ...             2      11               4         10                 71.5%         73              90        10            12          0\n",
            "11  Republic of Ireland      1                7                12             36.8%             5.2%                          28             0              0                     0  ...             0      23               9         17                 65.4%         43              51        11             6          1\n",
            "12               Russia      5                9                31             22.5%            12.5%                          59             2              0                     0  ...             0       8               3         10                 77.0%         34              43         4             6          0\n",
            "13                Spain     12               42                33             55.9%            16.0%                         100             0              1                     0  ...             5       8               1         15                 93.8%        102              83        19            11          0\n",
            "14               Sweden      5               17                19             47.2%            13.8%                          39             3              0                     0  ...             1      12               5          8                 61.6%         35              51         7             7          0\n",
            "15              Ukraine      2                7                26             21.2%             6.0%                          38             0              0                     0  ...             0       4               4         13                 76.5%         48              31         4             5          0\n",
            "\n",
            "[16 rows x 32 columns]"
          ]
        }
      ],
      "source": [
        "columns_excluding_last_3 = euro12.iloc[:, :-3]\n",
        "print(columns_excluding_last_3)"
      ],
      "id": "cell-26"
    },
    {
      "cell_type": "markdown",
      "metadata": {},
      "source": [
        "### Step 14. Present only the Shooting Accuracy from England, Italy and Russia"
      ],
      "id": "3ba86974-f47c-46fc-bb13-b3e6548a4504"
    },
    {
      "cell_type": "code",
      "execution_count": 15,
      "metadata": {},
      "outputs": [
        {
          "output_type": "stream",
          "name": "stdout",
          "text": [
            "       Team Shooting Accuracy\n",
            "3   England             50.0%\n",
            "7     Italy             43.0%\n",
            "12   Russia             22.5%"
          ]
        }
      ],
      "source": [
        "shooting_accuracy = euro12[euro12['Team'].isin(['England', 'Italy', 'Russia'])][['Team', 'Shooting Accuracy']]\n",
        "print(shooting_accuracy)"
      ],
      "id": "cell-28"
    }
  ],
  "nbformat": 4,
  "nbformat_minor": 5,
  "metadata": {
    "anaconda-cloud": {},
    "kernelspec": {
      "name": "python3",
      "display_name": "Python 3",
      "language": "python"
    },
    "language_info": {
      "name": "python",
      "codemirror_mode": {
        "name": "ipython",
        "version": "3"
      },
      "file_extension": ".py",
      "mimetype": "text/x-python",
      "nbconvert_exporter": "python",
      "pygments_lexer": "ipython3",
      "version": "3.13.0"
    }
  }
}