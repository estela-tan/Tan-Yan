{
  "cells": [
    {
      "cell_type": "markdown",
      "metadata": {},
      "source": [
        "# Ex1 - Filtering and Sorting Data\n",
        "\n",
        "This time we are going to pull data directly from the internet. Special\n",
        "thanks to: https://github.com/justmarkham for sharing the dataset and\n",
        "materials.\n",
        "\n",
        "### Step 1. Import the necessary libraries"
      ],
      "id": "64b463fa-9698-4118-abea-f08e4aa4a9db"
    },
    {
      "cell_type": "code",
      "execution_count": 2,
      "metadata": {},
      "outputs": [],
      "source": [
        "import pandas as pd\n"
      ],
      "id": "cell-3"
    },
    {
      "cell_type": "markdown",
      "metadata": {},
      "source": [
        "### Step 2. Import the dataset from this [address](https://raw.githubusercontent.com/justmarkham/DAT8/master/data/chipotle.tsv).\n",
        "\n",
        "### Step 3. Assign it to a variable called chipo."
      ],
      "id": "ca81791c-29a9-4bac-bc8c-992cbaf68144"
    },
    {
      "cell_type": "code",
      "execution_count": 3,
      "metadata": {},
      "outputs": [],
      "source": [
        "url = 'https://raw.githubusercontent.com/justmarkham/DAT8/master/data/chipotle.tsv'\n",
        "    \n",
        "chipo = pd.read_csv(url, sep = '\\t')"
      ],
      "id": "cell-6"
    },
    {
      "cell_type": "markdown",
      "metadata": {},
      "source": [
        "### Step 4. How many products cost more than \\$10.00?"
      ],
      "id": "2c00cd70-397e-4959-846c-2e258afddbd9"
    },
    {
      "cell_type": "code",
      "execution_count": 4,
      "metadata": {},
      "outputs": [
        {
          "output_type": "stream",
          "name": "stdout",
          "text": [
            "12"
          ]
        },
        {
          "output_type": "stream",
          "name": "stderr",
          "text": [
            "<>:2: SyntaxWarning: invalid escape sequence '\\$'\n",
            "<>:2: SyntaxWarning: invalid escape sequence '\\$'\n",
            "C:\\Users\\Administrator\\AppData\\Local\\Temp\\ipykernel_6956\\2090063564.py:2: SyntaxWarning: invalid escape sequence '\\$'\n",
            "  chipo['item_price'] = chipo['item_price'].replace({'\\$': ''}, regex=True).astype(float)"
          ]
        }
      ],
      "source": [
        "# Step 1: Clean the 'item_price' column and convert it to a float\n",
        "chipo['item_price'] = chipo['item_price'].replace({'\\$': ''}, regex=True).astype(float)\n",
        "\n",
        "# Step 2: Remove duplicates based on 'item_name' and 'quantity'\n",
        "chipo_cleaned = chipo.drop_duplicates(subset=['item_name', 'quantity'])\n",
        "\n",
        "# Step 3: Filter the dataset to include only rows where 'quantity' equals 1\n",
        "chipo_single_item = chipo_cleaned[chipo_cleaned['quantity'] == 1]\n",
        "\n",
        "# Step 4: Find how many products cost more than $10.00\n",
        "expensive_products = chipo_single_item[chipo_single_item['item_price'] > 10.00]\n",
        "\n",
        "# Count the number of unique products that cost more than $10.00\n",
        "num_expensive_products = expensive_products['item_name'].nunique()\n",
        "\n",
        "# Print the result\n",
        "print(f\"{num_expensive_products}\")"
      ],
      "id": "cell-8"
    },
    {
      "cell_type": "markdown",
      "metadata": {},
      "source": [
        "### Step 5. What is the price of each item?\n",
        "\n",
        "###### print a data frame with only two columns item_name and item_price"
      ],
      "id": "4164485f-7edb-4eda-9996-f6498ea5f93e"
    },
    {
      "cell_type": "code",
      "execution_count": 5,
      "metadata": {},
      "outputs": [
        {
          "output_type": "stream",
          "name": "stdout",
          "text": [
            "                                  item_name  item_price\n",
            "1132                    Carnitas Salad Bowl       11.89\n",
            "1229                    Barbacoa Salad Bowl       11.89\n",
            "606                        Steak Salad Bowl       11.89\n",
            "39                            Barbacoa Bowl       11.75\n",
            "7                             Steak Burrito       11.75\n",
            "168                   Barbacoa Crispy Tacos       11.75\n",
            "57                           Veggie Burrito       11.25\n",
            "62                              Veggie Bowl       11.25\n",
            "186                       Veggie Salad Bowl       11.25\n",
            "738                       Veggie Soft Tacos       11.25\n",
            "250                           Chicken Salad       10.98\n",
            "5                              Chicken Bowl       10.98\n",
            "8                          Steak Soft Tacos        9.25\n",
            "92                       Steak Crispy Tacos        9.25\n",
            "554                   Carnitas Crispy Tacos        9.25\n",
            "237                     Carnitas Soft Tacos        9.25\n",
            "56                      Barbacoa Soft Tacos        9.25\n",
            "33                            Carnitas Bowl        8.99\n",
            "664                             Steak Salad        8.99\n",
            "21                         Barbacoa Burrito        8.99\n",
            "3750                         Carnitas Salad        8.99\n",
            "54                               Steak Bowl        8.99\n",
            "27                         Carnitas Burrito        8.99\n",
            "44                       Chicken Salad Bowl        8.75\n",
            "11                     Chicken Crispy Tacos        8.75\n",
            "12                       Chicken Soft Tacos        8.75\n",
            "1653                    Veggie Crispy Tacos        8.49\n",
            "16                          Chicken Burrito        8.49\n",
            "1694                           Veggie Salad        8.49\n",
            "1414                                  Salad        7.40\n",
            "673                                    Bowl        7.40\n",
            "520                            Crispy Tacos        7.40\n",
            "510                                 Burrito        7.40\n",
            "298                       6 Pack Soft Drink        6.49\n",
            "10                      Chips and Guacamole        4.45\n",
            "2                          Nantucket Nectar        3.39\n",
            "1                                      Izze        3.39\n",
            "674       Chips and Mild Fresh Tomato Salsa        3.00\n",
            "233      Chips and Roasted Chili Corn Salsa        2.95\n",
            "38    Chips and Tomatillo Green Chili Salsa        2.95\n",
            "111     Chips and Tomatillo Red Chili Salsa        2.95\n",
            "0              Chips and Fresh Tomato Salsa        2.39\n",
            "191      Chips and Roasted Chili-Corn Salsa        2.39\n",
            "300     Chips and Tomatillo-Red Chili Salsa        2.39\n",
            "3     Chips and Tomatillo-Green Chili Salsa        2.39\n",
            "40                                    Chips        2.15\n",
            "6                             Side of Chips        1.69\n",
            "263                       Canned Soft Drink        1.25\n",
            "34                            Bottled Water        1.09\n",
            "28                              Canned Soda        1.09"
          ]
        }
      ],
      "source": [
        "# Step 1: Remove duplicates based on 'item_name' and 'quantity'\n",
        "chipo_cleaned = chipo.drop_duplicates(subset=['item_name', 'quantity'])\n",
        "\n",
        "# Step 2: Select only the rows where 'quantity' equals 1\n",
        "chipo_single_item = chipo_cleaned[chipo_cleaned['quantity'] == 1]\n",
        "\n",
        "# Step 3: Select only the 'item_name' and 'item_price' columns\n",
        "chipo_price_df = chipo_single_item[['item_name', 'item_price']]\n",
        "\n",
        "# Step 4: Sort the values by 'item_price' from most to least expensive\n",
        "chipo_price_df_sorted = chipo_price_df.sort_values(by='item_price', ascending=False)\n",
        "\n",
        "# Print the resulting DataFrame\n",
        "print(chipo_price_df_sorted)"
      ],
      "id": "cell-10"
    },
    {
      "cell_type": "markdown",
      "metadata": {},
      "source": [
        "### Step 6. Sort by the name of the item"
      ],
      "id": "13e19d29-c48e-47fe-9043-8a44312eaa75"
    },
    {
      "cell_type": "code",
      "execution_count": 6,
      "metadata": {},
      "outputs": [
        {
          "output_type": "stream",
          "name": "stdout",
          "text": [
            "      order_id  quantity          item_name                                 choice_description  item_price\n",
            "3389      1360         2  6 Pack Soft Drink                                        [Diet Coke]       12.98\n",
            "341        148         1  6 Pack Soft Drink                                        [Diet Coke]        6.49\n",
            "1849       749         1  6 Pack Soft Drink                                             [Coke]        6.49\n",
            "1860       754         1  6 Pack Soft Drink                                        [Diet Coke]        6.49\n",
            "2713      1076         1  6 Pack Soft Drink                                             [Coke]        6.49\n",
            "...        ...       ...                ...                                                ...         ...\n",
            "2384       948         1  Veggie Soft Tacos  [Roasted Chili Corn Salsa, [Fajita Vegetables,...        8.75\n",
            "781        322         1  Veggie Soft Tacos  [Fresh Tomato Salsa, [Black Beans, Cheese, Sou...        8.75\n",
            "2851      1132         1  Veggie Soft Tacos  [Roasted Chili Corn Salsa (Medium), [Black Bea...        8.49\n",
            "1699       688         1  Veggie Soft Tacos  [Fresh Tomato Salsa, [Fajita Vegetables, Rice,...       11.25\n",
            "1395       567         1  Veggie Soft Tacos  [Fresh Tomato Salsa (Mild), [Pinto Beans, Rice...        8.49\n",
            "\n",
            "[4622 rows x 5 columns]"
          ]
        }
      ],
      "source": [
        " # OR\n",
        "sorted_df = chipo.sort_values(by='item_name') \n",
        "pd.set_option('display.width', 400) \n",
        "# 显示包含指定列的整个排序后的DataFrame\n",
        "print(sorted_df[['order_id', 'quantity', 'item_name', 'choice_description', 'item_price']])\n",
        "\n"
      ],
      "id": "cell-12"
    },
    {
      "cell_type": "markdown",
      "metadata": {},
      "source": [
        "### Step 7. What was the quantity of the most expensive item ordered?"
      ],
      "id": "4249bd6e-1560-44a3-a60e-5e12f683e78a"
    },
    {
      "cell_type": "code",
      "execution_count": 7,
      "metadata": {},
      "outputs": [
        {
          "output_type": "stream",
          "name": "stdout",
          "text": [
            "      order_id  quantity                     item_name choice_description  item_price\n",
            "3598      1443        15  Chips and Fresh Tomato Salsa                NaN       44.25"
          ]
        }
      ],
      "source": [
        "most_expensive_item = chipo.sort_values(by='item_price', ascending=False).head(1)\n",
        " \n",
        "# 选择需要的列\n",
        "selected_columns = ['order_id', 'quantity', 'item_name', 'choice_description', 'item_price']\n",
        "most_expensive_item_info = most_expensive_item[selected_columns]\n",
        "\n",
        " \n",
        "# 输出结果\n",
        "print(most_expensive_item_info)"
      ],
      "id": "cell-14"
    },
    {
      "cell_type": "markdown",
      "metadata": {},
      "source": [
        "### Step 8. How many times was a Veggie Salad Bowl ordered?"
      ],
      "id": "652aedbd-97bf-4e10-b9f7-3ce2c9b38d72"
    },
    {
      "cell_type": "code",
      "execution_count": 8,
      "metadata": {},
      "outputs": [
        {
          "output_type": "stream",
          "name": "stdout",
          "text": [
            "18"
          ]
        }
      ],
      "source": [
        "# Step 8: Count how many times 'Veggie Salad Bowl' was ordered\n",
        "veggie_salad_bowl_count = chipo[chipo['item_name'] == 'Veggie Salad Bowl'].shape[0]\n",
        "\n",
        "# Print the result\n",
        "print( veggie_salad_bowl_count)"
      ],
      "id": "cell-16"
    },
    {
      "cell_type": "markdown",
      "metadata": {},
      "source": [
        "### Step 9. How many times did someone order more than one Canned Soda?"
      ],
      "id": "9478e029-719f-4b73-b715-986c0e901cf1"
    },
    {
      "cell_type": "code",
      "execution_count": 9,
      "metadata": {},
      "outputs": [
        {
          "output_type": "stream",
          "name": "stdout",
          "text": [
            "20"
          ]
        }
      ],
      "source": [
        "\n",
        "canned_soda_multiple_order = chipo[(chipo['item_name'] == 'Canned Soda') & (chipo['quantity'] > 1)]\n",
        "canned_soda_multiple_order_count = canned_soda_multiple_order.shape[0]\n",
        "print(canned_soda_multiple_order_count)\n"
      ],
      "id": "cell-18"
    }
  ],
  "nbformat": 4,
  "nbformat_minor": 5,
  "metadata": {
    "kernelspec": {
      "name": "python3",
      "display_name": "Python 3",
      "language": "python"
    },
    "language_info": {
      "name": "python",
      "codemirror_mode": {
        "name": "ipython",
        "version": "3"
      },
      "file_extension": ".py",
      "mimetype": "text/x-python",
      "nbconvert_exporter": "python",
      "pygments_lexer": "ipython3",
      "version": "3.13.0"
    }
  }
}