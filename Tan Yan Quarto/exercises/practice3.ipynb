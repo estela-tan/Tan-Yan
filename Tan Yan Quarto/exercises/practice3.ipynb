{
 "cells": [
  {
   "cell_type": "markdown",
   "metadata": {},
   "source": [
    "# 1. Go through https://aeturrell.github.io/coding-for-economists/data-extraction.html up to 'Extracting data from PDFs' section. Recreate the code on your  machine."
   ]
  },
  {
   "cell_type": "code",
   "execution_count": 2,
   "metadata": {},
   "outputs": [
    {
     "name": "stdout",
     "output_type": "stream",
     "text": [
      "3 \n",
      " \n",
      "2 Quantifying Fuel-Saving Opportunities from Specific Driving \n",
      "Behavior Changes \n",
      "2.1 \n",
      "Savings from Improving Individual Driving Profiles \n",
      "2.1.1 Drive Profile Subsample from Real-World Travel Survey \n",
      "The interim repo\n"
     ]
    }
   ],
   "source": [
    "import fitz #Couldn't be read with the pdftotext function because of the version, so it's replaced with the PyMuPDF\n",
    "from pathlib import Path\n",
    " \n",
    "\n",
    "pdf_path = Path(\"data/pdf_with_table.pdf\")  \n",
    "\n",
    "try:\n",
    "    pdf_document = fitz.open(pdf_path)  \n",
    "    all_text = \"\" \n",
    " \n",
    "    for page_num in range(pdf_document.page_count):\n",
    "        page = pdf_document.load_page(page_num) \n",
    "        page_text = page.get_text()  \n",
    "        all_text += page_text + \"\\n\\n\"  \n",
    "    \n",
    "    print(all_text[:220])  \n",
    " \n",
    "finally:\n",
    "\n",
    "    pdf_document.close() \n",
    " "
   ]
  },
  {
   "cell_type": "code",
   "execution_count": 1,
   "metadata": {},
   "outputs": [
    {
     "name": "stdout",
     "output_type": "stream",
     "text": [
      "['Cycle\\nName', 'KI\\n(1/km)', 'Distance\\n(mi)', 'Percent Fuel Savings', None, None, None]\n",
      "[None, None, None, 'Improved\\nSpeed', 'Decreased\\nAccel', 'Eliminate\\nStops', 'Decreased\\nIdle']\n",
      "['2012_2', '3.30', '1.3', '5.9%', '9.5%', '29.2%', '17.4%']\n",
      "['2145_1', '0.68', '11.2', '2.4%', '0.1%', '9.5%', '2.7%']\n",
      "['4234_1', '0.59', '58.7', '8.5%', '1.3%', '8.5%', '3.3%']\n",
      "['2032_2', '0.17', '57.8', '21.7%', '0.3%', '2.7%', '1.2%']\n",
      "['4171_1', '0.07', '173.9', '58.1%', '1.6%', '2.1%', '0.5%']\n"
     ]
    }
   ],
   "source": [
    "import pdfplumber #Changed functions due to system version\n",
    " \n",
    "with pdfplumber.open('data/pdf_with_table.pdf') as pdf:\n",
    "\n",
    "    for page in pdf.pages:   \n",
    "        tables = page.extract_tables()\n",
    "        table = tables[0]\n",
    "        for row in table:\n",
    "            print(row)"
   ]
  },
  {
   "cell_type": "code",
   "execution_count": null,
   "metadata": {},
   "outputs": [],
   "source": [
    "#import textract\n",
    "#text = textract.process(Path('path/to/file.extension'))\n",
    "#Currently, this third-party library does not run on Windows."
   ]
  },
  {
   "cell_type": "markdown",
   "metadata": {},
   "source": [
    "# 2.Go through https://www.geeksforgeeks.org/scrape-imdb-movie-rating-and-detalls-using-python/. Recreate the code on your machine."
   ]
  },
  {
   "cell_type": "code",
   "execution_count": null,
   "metadata": {},
   "outputs": [],
   "source": [
    "from bs4 import BeautifulSoup\n",
    "import requests\n",
    "import pandas as pd\n",
    "from time import sleep"
   ]
  },
  {
   "cell_type": "code",
   "execution_count": null,
   "metadata": {},
   "outputs": [],
   "source": [
    "headers = {\n",
    "    'User-Agent': 'Mozilla/5.0 (X11; Linux x86_64; rv:109.0) Gecko/20100101 Firefox/116.0',\n",
    "    'Accept': '*/*',\n",
    "    'Accept-Language': 'zh-CN,zh;q=0.8,zh-TW;q=0.7,zh-HK;q=0.5,en-US;q=0.3,en;q=0.2',\n",
    "    'Accept-Encoding': 'gzip, deflate, br',\n",
    "    'Content-Type': 'text/plain;charset=UTF-8',\n",
    "}\n",
    "\n",
    "url = 'https://www.imdb.com/chart/top'\n",
    "response = requests.get(url, headers=headers)\n",
    "soup = BeautifulSoup(response.text, \"html.parser\")\n",
    "movies = soup.select('li.ipc-metadata-list-summary-item')"
   ]
  },
  {
   "cell_type": "code",
   "execution_count": null,
   "metadata": {},
   "outputs": [],
   "source": [
    "index = 0\n",
    "\n",
    "title_string = movies[index].select('h3')[0].text.split(\". \")\n",
    "place = title_string[0]\n",
    "movie_title = title_string[1]\n",
    "rating = movies[index].select('span.ipc-rating-star--rating')[0].text\n",
    "year = movies[index].select('span.cli-title-metadata-item')[0].text\n",
    "title_id_href = movies[0].select('a.ipc-lockup-overlay')[0].get('href')\n",
    "title_id = title_id_href.split(\"/\")[2]\n",
    "stats_url = 'https://caching.graphql.imdb.com/?operationName=Title_Summary_Prompt_From_Base&variables={\"id\":\"' + title_id + '\",\"locale\":\"zh-CN\",\"location\":{\"latLong\":{\"lat\":\"22.3\",\"long\":\"114.2\"}},\"promotedProvider\":null,\"providerId\":null}&extensions={\"persistedQuery\":{\"sha256Hash\":\"28fdb27482f0852bc70811f36a5fab72e9afd1589b37c5e1aaecf438d418f6c7\",\"version\":1}}'\n",
    "stats_response = requests.get(stats_url, headers=headers)\n",
    "stats_json_data = stats_response.json()\n",
    "stats = ', '.join([item['name']['nameText']['text'] for item in stats_json_data['data']['title']['principalCast'][0]['credits']])\n",
    "stats_json_data"
   ]
  },
  {
   "cell_type": "code",
   "execution_count": null,
   "metadata": {},
   "outputs": [],
   "source": [
    "movie_data_list = []\n",
    "\n",
    "for index in range(len(movies)):\n",
    "\ttitle_string = movies[index].select('h3')[0].text.split(\". \")\n",
    "\tplace = title_string[0]\n",
    "\tmovie_title = title_string[1]\n",
    "\trating = movies[index].select('span.ipc-rating-star--rating')[0].text\n",
    "\tyear = movies[index].select('span.cli-title-metadata-item')[0].text\n",
    "\ttitle_id_href = movies[index].select('a.ipc-lockup-overlay')[0].get('href')\n",
    "\ttitle_id = title_id_href.split(\"/\")[2]\n",
    "\tstats_url = 'https://caching.graphql.imdb.com/?operationName=Title_Summary_Prompt_From_Base&variables={\"id\":\"' + title_id + '\",\"locale\":\"zh-CN\",\"location\":{\"latLong\":{\"lat\":\"22.3\",\"long\":\"114.2\"}},\"promotedProvider\":null,\"providerId\":null}&extensions={\"persistedQuery\":{\"sha256Hash\":\"28fdb27482f0852bc70811f36a5fab72e9afd1589b37c5e1aaecf438d418f6c7\",\"version\":1}}'\n",
    "\tstats_response = requests.get(stats_url, headers=headers)\n",
    "\tstats_json_data = stats_response.json()\n",
    "\tstats = ', '.join([item['name']['nameText']['text'] for item in stats_json_data['data']['title']['principalCast'][0]['credits']])\n",
    "\n",
    "\tdata = {\"place\": place,\n",
    "\t\t\t\"movie_title\": movie_title,\n",
    "\t\t\t\"rating\": rating,\n",
    "\t\t\t\"year\": year,\n",
    "\t\t\t\"star_cast\": stats,\n",
    "\t\t\t}\n",
    "\tmovie_data_list.append(data)\n",
    "\tsleep(0.2)"
   ]
  },
  {
   "cell_type": "code",
   "execution_count": null,
   "metadata": {},
   "outputs": [],
   "source": [
    "df = pd.DataFrame(movie_data_list)\n",
    "df.to_csv('data/imdb_top_250_movies.csv',index=False)"
   ]
  },
  {
   "cell_type": "code",
   "execution_count": null,
   "metadata": {},
   "outputs": [],
   "source": [
    "df"
   ]
  },
  {
   "cell_type": "markdown",
   "metadata": {},
   "source": [
    "# 3.scrape data from hitps:/movie.douban.com/top250 and make visualizations.Use hitps:/blog,csdn.net/9g 5174909/article/detais/143106786 as an example"
   ]
  },
  {
   "cell_type": "code",
   "execution_count": null,
   "metadata": {},
   "outputs": [],
   "source": [
    "import requests\n",
    "from bs4 import BeautifulSoup\n",
    "import pandas as pd\n",
    " \n",
    "douban_url_template = \"https://movie.douban.com/top250?start={}\"\n",
    "douban_headers = {\n",
    "    'User-Agent': 'Mozilla/5.0 (X11; Linux x86_64; rv:109.0) Gecko/20100101 Firefox/116.0',\n",
    "}\n",
    " \n",
    "douban_movies = []"
   ]
  },
  {
   "cell_type": "code",
   "execution_count": null,
   "metadata": {},
   "outputs": [],
   "source": [
    "# 分页\n",
    "for start in range(0, 250, 25):\n",
    "    douban_url = douban_url_template.format(start)\n",
    "    douban_response = requests.get(douban_url, headers=douban_headers)\n",
    "    douban_response.encoding = 'utf-8'  # 设置编码方式\n",
    "    douban_soup = BeautifulSoup(douban_response.text, 'html.parser')\n",
    " \n",
    "    for item in douban_soup.find_all('div', class_='item'):\n",
    "        title = item.find('span', class_='title').get_text()  # 电影名称\n",
    "        \n",
    "        # 获取年份信息\n",
    "        year_info = item.find('p').find('span', class_='pl')\n",
    "        if year_info:\n",
    "            year = year_info.get_text().strip().replace('(', '').replace(')', '')  # 清理括号\n",
    "        else:\n",
    "            year = '未知'\n",
    " \n",
    "        description_span = item.find('span', class_='inq')  # 电影描述\n",
    "        rating = item.find('span', class_='rating_num').get_text()  # 评分\n",
    "        \n",
    "        try:\n",
    "            votes = item.find('div', class_='star').find_all('span')[3].get_text()  # 评价人数\n",
    "        except IndexError:\n",
    "            # 如果找不到，可以尝试其他方式或者设置为None/默认值\n",
    "            votes = '未知'\n",
    "        \n",
    "        # 如果没有描述，将其置为空字符串\n",
    "        description = description_span.get_text() if description_span else ''\n",
    "        \n",
    "        movie = {\n",
    "            \"title\": title,\n",
    "            \"year\": year,\n",
    "            \"description\": description,\n",
    "            \"rating\": rating,\n",
    "            \"votes\": votes.replace('人评价', '').strip() if votes else '0'  # 如果没有votes，则设置为0或其他默认值\n",
    "        }\n",
    "        douban_movies.append(movie)\n",
    " \n"
   ]
  },
  {
   "cell_type": "code",
   "execution_count": null,
   "metadata": {},
   "outputs": [],
   "source": [
    "douban_df = pd.DataFrame(douban_movies)\n",
    "douban_df.to_csv('data/douban_top250.csv', index=False)"
   ]
  },
  {
   "cell_type": "code",
   "execution_count": null,
   "metadata": {},
   "outputs": [],
   "source": [
    "douban_df"
   ]
  }
 ],
 "metadata": {
  "kernelspec": {
   "display_name": "Python 3",
   "language": "python",
   "name": "python3"
  },
  "language_info": {
   "codemirror_mode": {
    "name": "ipython",
    "version": 3
   },
   "file_extension": ".py",
   "mimetype": "text/x-python",
   "name": "python",
   "nbconvert_exporter": "python",
   "pygments_lexer": "ipython3",
   "version": "3.13.0"
  }
 },
 "nbformat": 4,
 "nbformat_minor": 2
}
